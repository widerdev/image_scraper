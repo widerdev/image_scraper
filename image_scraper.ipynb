{
 "cells": [
  {
   "cell_type": "code",
   "execution_count": 5,
   "id": "3a4bc8e6-630b-4a05-bf7c-5873f5f9a378",
   "metadata": {},
   "outputs": [],
   "source": [
    "import requests\n",
    "import logging\n",
    "import os\n",
    "from bs4 import BeautifulSoup      # scrap data from HTML pages\n",
    "from urllib.request import urlopen # To request from the server"
   ]
  },
  {
   "cell_type": "code",
   "execution_count": 7,
   "id": "592824d8-ae00-4dc9-a3f0-f01271c2ac54",
   "metadata": {},
   "outputs": [],
   "source": [
    "save_dir = \"images/\"   # folder in which images are saved\n",
    "if not os.path.exists(save_dir):    # if above folder is not exists than make it\n",
    "    os.makedirs(save_dir)"
   ]
  },
  {
   "cell_type": "code",
   "execution_count": 47,
   "id": "02a96495-02eb-4076-baa2-f9cb3e299a20",
   "metadata": {},
   "outputs": [],
   "source": [
    "query = \"virat kohli\""
   ]
  },
  {
   "cell_type": "code",
   "execution_count": 48,
   "id": "f8be28fa-013a-41fd-8288-e5694ff03561",
   "metadata": {},
   "outputs": [],
   "source": [
    "response = requests.get(f\"https://www.google.com/search?q={query}&sca_esv=f0b39c056d6199a4&sca_upv=1&udm=2&prmd=invtzbms&sxsrf=ADLYWILR-hxGqkv-4UD0o00xFfYjj-Z6NA:1716466821584&source=lnms&sa=X&ved=2ahUKEwie5qyZ4aOGAxUU1zgGHW1zBQ8Q0pQJegQIBhAE&biw=1098&bih=551&dpr=1.75\")"
   ]
  },
  {
   "cell_type": "code",
   "execution_count": 17,
   "id": "7b85649b-2bd4-4b37-bfc5-0889cd9ffe57",
   "metadata": {},
   "outputs": [
    {
     "data": {
      "text/plain": [
       "<Response [200]>"
      ]
     },
     "execution_count": 17,
     "metadata": {},
     "output_type": "execute_result"
    }
   ],
   "source": [
    "response"
   ]
  },
  {
   "cell_type": "code",
   "execution_count": 49,
   "id": "e0f9f3e1-1fba-4ddf-baf0-b7c6fea1096c",
   "metadata": {},
   "outputs": [],
   "source": [
    "soup = BeautifulSoup(response.content, \"html.parser\")"
   ]
  },
  {
   "cell_type": "code",
   "execution_count": 50,
   "id": "391dd1d4-aebe-4edb-95a0-38a505aeccd3",
   "metadata": {},
   "outputs": [
    {
     "data": {
      "text/plain": [
       "<!DOCTYPE html PUBLIC \"-//WAPFORUM//DTD XHTML Mobile 1.0//EN\" \"http://www.wapforum.org/DTD/xhtml-mobile10.dtd\">\n",
       "<html lang=\"en-IN\" xmlns=\"http://www.w3.org/1999/xhtml\"><head><meta content=\"application/xhtml+xml; charset=utf-8\" http-equiv=\"Content-Type\"/><meta content=\"no-cache\" name=\"Cache-Control\"/><title>virat kohli - Google Search</title><style>a{text-decoration:none;color:inherit}a:hover{text-decoration:underline}a img{border:0}body{font-family:arial,sans-serif;padding:8px;margin:0 auto;max-width:700px;min-width:240px;}.FbhRzb{border-left:thin solid #dadce0;border-right:thin solid #dadce0;border-top:thin solid #dadce0;height:40px;overflow:hidden}.n692Zd{margin-bottom:10px}.cvifge{height:40px;border-spacing:0}.QvGUP{height:40px;padding:0 8px 0 8px;vertical-align:top}.O4cRJf{height:40px;width:100%;padding:0;padding-right:16px}.O1ePr{height:40px;padding:0;vertical-align:top}.kgJEQe{height:36px;width:98px;vertical-align:top;margin-top:4px}.lXLRf{vertical-align:top}.MhzMZd{border:0;vertical-align:middle;font-size:14px;height:40px;padding:0;width:100%;padding-left:16px}.xB0fq{height:40px;border:none;font-size:14px;background-color:#1a73e8;color:#fff;padding:0 16px;margin:0;vertical-align:top;cursor:pointer}.xB0fq:focus{border:1px solid #1a73e8}.M7pB2{border:thin solid #dadce0;margin:0 0 3px 0;font-size:13px;font-weight:500;height:40px}.euZec{width:100%;height:40px;text-align:center;border-spacing:0}table.euZec td{padding:0;width:25%}.QIqI7{display:inline-block;padding-top:4px;font-weight:bold;color:#4285f4}.EY24We{border-bottom:2px solid #4285f4}.CsQyDc{display:inline-block;color:#70757a}.TuS8Ad{font-size:14px}.HddGcc{padding:8px;color:#70757a}.dzp8ae{font-weight:bold;color:#3c4043}.rEM8G{color:#70757a}.bookcf{table-layout:fixed;width:100%;border-spacing:0}.InWNIe{text-align:center}.uZgmoc{border:thin solid #dadce0;color:#70757a;font-size:14px;text-align:center;table-layout:fixed;width:100%}.frGj1b{display:block;padding:12px 0 12px 0;width:100%}.BnJWBc{text-align:center;padding:6px 0 13px 0;height:35px}.e3goi{vertical-align:top;padding:0;height:180px}.GpQGbf{margin:auto;border-collapse:collapse;border-spacing:0;width:100%}</style></head><body><style>.X6ZCif{color:#202124;font-size:11px;line-height:16px;display:inline-block;padding-top:2px;overflow:hidden;padding-bottom:4px;width:100%}.TwVfHd{border-radius:16px;border:thin solid #dadce0;display:inline-block;padding:8px 8px;margin-right:8px;margin-bottom:4px}.yekiAe{background-color:#dadce0}.jjVJ4e{width:100%}.ezO2md{border:thin solid #dadce0;padding:12px 16px 12px 16px;margin-bottom:10px;font-family:arial,sans-serif}.lIMUZd{font-family:arial,sans-serif}.RntSmf{border-spacing:0}.lgD2Tc{width:100%}.SpelHe{text-align:center}.SpelHe{position:relative}.kCmkOe{position:relative}.kCmkOe{width:162px;height:140px;line-height:140px;overflow:'hidden';text-align:center}.DS1iW{text-align:center;margin:auto;vertical-align:middle;max-width:162px;max-height:140px}.AlD19d{padding-top:2px;padding-bottom:8px;}.fYyStc{word-break:break-word}.ynsChf{display:block;white-space:nowrap;overflow:hidden;text-overflow:ellipsis}.Fj3V3b{color:#1967d2;font-size:14px;line-height:20px}.FrIlee{color:#202124;font-size:11px;line-height:16px}.F9iS2e{color:#70757a;font-size:11px;line-height:16px}.WMQ2Le{color:#70757a;font-size:12px;line-height:16px}.x3G5ab{color:#202124;font-size:12px;line-height:16px}.fuLhoc{color:#1967d2;font-size:16px;line-height:20px}.epoveb{font-size:24px;line-height:28px;font-weight:400;color:#202124}.dXDvrc{color:#0d652d;font-size:14px;line-height:20px;word-wrap:break-word}.dloBPe{font-weight:bold}.YVIcad{color:#70757a}.JkVVdd{color:#ea4335}.oXZRFd{color:#ea4335}.MQHtg{color:#fbbc04}.pyMRrb{color:#1e8e3e}.EtTZid{color:#1e8e3e}.M3vVJe{color:#1967d2}.qXLe6d{display:block}.NHQNef{font-style:italic}.Cb8Z7c{white-space:pre}a.ZWRArf{text-decoration:none}a .CVA68e:hover{text-decoration:underline}</style><div class=\"n692Zd\"><div class=\"BnJWBc\"><a class=\"lXLRf\" href=\"/?sa=X&amp;sca_esv=f0b39c056d6199a4&amp;sca_upv=1&amp;biw=1098&amp;bih=551&amp;output=images&amp;ie=UTF-8&amp;tbm=isch&amp;ved=0ahUKEwjy9vSa6qOGAxXNklYBHUzfCfUQPAgC\"><img alt=\"Google\" class=\"kgJEQe\" src=\"/images/branding/searchlogo/1x/googlelogo_desk_heirloom_color_150x55dp.gif\"/></a></div><div class=\"FbhRzb\"><form action=\"/search\"><input name=\"sca_esv\" type=\"hidden\" value=\"f0b39c056d6199a4\"/><input name=\"sca_upv\" type=\"hidden\" value=\"1\"/><input name=\"biw\" type=\"hidden\" value=\"1098\"/><input name=\"bih\" type=\"hidden\" value=\"551\"/><input name=\"ie\" type=\"hidden\" value=\"ISO-8859-1\"/><input name=\"tbm\" type=\"hidden\" value=\"isch\"/><input name=\"oq\" type=\"hidden\"/><input name=\"aqs\" type=\"hidden\"/><table class=\"cvifge\"><tr><td class=\"O4cRJf\"><input class=\"MhzMZd\" name=\"q\" type=\"text\" value=\"virat kohli\"/></td><td class=\"O1ePr\"><input class=\"xB0fq\" type=\"submit\" value=\"Search\"/></td></tr></table></form></div><div class=\"M7pB2\"><table class=\"euZec\"><tbody><tr><td><a class=\"CsQyDc\" href=\"/search?q=virat+kohli&amp;sca_esv=f0b39c056d6199a4&amp;sca_upv=1&amp;biw=1098&amp;bih=551&amp;ie=UTF-8&amp;source=lnms&amp;sa=X&amp;ved=0ahUKEwjy9vSa6qOGAxXNklYBHUzfCfUQ_AUIBCgA\">ALL</a></td><td><a class=\"CsQyDc\" href=\"/search?q=virat+kohli&amp;sca_esv=f0b39c056d6199a4&amp;sca_upv=1&amp;biw=1098&amp;bih=551&amp;ie=UTF-8&amp;tbm=nws&amp;source=lnms&amp;sa=X&amp;ved=0ahUKEwjy9vSa6qOGAxXNklYBHUzfCfUQ_AUIBSgB\">NEWS</a></td><td class=\"EY24We\"><span class=\"QIqI7\">IMAGES</span></td><td><a class=\"CsQyDc\" href=\"/search?q=virat+kohli&amp;sca_esv=f0b39c056d6199a4&amp;sca_upv=1&amp;biw=1098&amp;bih=551&amp;ie=UTF-8&amp;tbm=vid&amp;source=lnms&amp;sa=X&amp;ved=0ahUKEwjy9vSa6qOGAxXNklYBHUzfCfUQ_AUIBygD\">VIDEOS</a></td></tr></tbody></table></div></div><div class=\"X6ZCif\"><a class=\"TwVfHd\" href=\"/search?sca_esv=f0b39c056d6199a4&amp;sca_upv=1&amp;biw=1098&amp;bih=551&amp;ie=UTF-8&amp;tbm=isch&amp;q=virat+kohli&amp;chips=q:virat+kohli,g_1:hairstyle&amp;sa=X&amp;ved=0ahUKEwjy9vSa6qOGAxXNklYBHUzfCfUQ4lYICygA\">hairstyle</a><a class=\"TwVfHd\" href=\"/search?sca_esv=f0b39c056d6199a4&amp;sca_upv=1&amp;biw=1098&amp;bih=551&amp;ie=UTF-8&amp;tbm=isch&amp;q=virat+kohli&amp;chips=q:virat+kohli,g_1:wallpaper&amp;sa=X&amp;ved=0ahUKEwjy9vSa6qOGAxXNklYBHUzfCfUQ4lYIDCgB\">wallpaper</a><a class=\"TwVfHd\" href=\"/search?sca_esv=f0b39c056d6199a4&amp;sca_upv=1&amp;biw=1098&amp;bih=551&amp;ie=UTF-8&amp;tbm=isch&amp;q=virat+kohli&amp;chips=q:virat+kohli,g_1:style&amp;sa=X&amp;ved=0ahUKEwjy9vSa6qOGAxXNklYBHUzfCfUQ4lYIDSgC\">style</a><a class=\"TwVfHd\" href=\"/search?sca_esv=f0b39c056d6199a4&amp;sca_upv=1&amp;biw=1098&amp;bih=551&amp;ie=UTF-8&amp;tbm=isch&amp;q=virat+kohli&amp;chips=q:virat+kohli,g_1:wedding&amp;sa=X&amp;ved=0ahUKEwjy9vSa6qOGAxXNklYBHUzfCfUQ4lYIDigD\">wedding</a><a class=\"TwVfHd\" href=\"/search?sca_esv=f0b39c056d6199a4&amp;sca_upv=1&amp;biw=1098&amp;bih=551&amp;ie=UTF-8&amp;tbm=isch&amp;q=virat+kohli&amp;chips=q:virat+kohli,g_1:new+look&amp;sa=X&amp;ved=0ahUKEwjy9vSa6qOGAxXNklYBHUzfCfUQ4lYIDygE\">new look</a><a class=\"TwVfHd\" href=\"/search?sca_esv=f0b39c056d6199a4&amp;sca_upv=1&amp;biw=1098&amp;bih=551&amp;ie=UTF-8&amp;tbm=isch&amp;q=virat+kohli&amp;chips=q:virat+kohli,g_1:tattoo&amp;sa=X&amp;ved=0ahUKEwjy9vSa6qOGAxXNklYBHUzfCfUQ4lYIECgF\">tattoo</a><a class=\"TwVfHd\" href=\"/search?sca_esv=f0b39c056d6199a4&amp;sca_upv=1&amp;biw=1098&amp;bih=551&amp;ie=UTF-8&amp;tbm=isch&amp;q=virat+kohli&amp;chips=q:virat+kohli,g_1:captain&amp;sa=X&amp;ved=0ahUKEwjy9vSa6qOGAxXNklYBHUzfCfUQ4lYIESgG\">captain</a><a class=\"TwVfHd\" href=\"/search?sca_esv=f0b39c056d6199a4&amp;sca_upv=1&amp;biw=1098&amp;bih=551&amp;ie=UTF-8&amp;tbm=isch&amp;q=virat+kohli&amp;chips=q:virat+kohli,g_1:century&amp;sa=X&amp;ved=0ahUKEwjy9vSa6qOGAxXNklYBHUzfCfUQ4lYIEigH\">century</a><a class=\"TwVfHd\" href=\"/search?sca_esv=f0b39c056d6199a4&amp;sca_upv=1&amp;biw=1098&amp;bih=551&amp;ie=UTF-8&amp;tbm=isch&amp;q=virat+kohli&amp;chips=q:virat+kohli,g_1:rohit+sharma&amp;sa=X&amp;ved=0ahUKEwjy9vSa6qOGAxXNklYBHUzfCfUQ4lYIEygI\">rohit sharma</a><a class=\"TwVfHd\" href=\"/search?sca_esv=f0b39c056d6199a4&amp;sca_upv=1&amp;biw=1098&amp;bih=551&amp;ie=UTF-8&amp;tbm=isch&amp;q=virat+kohli&amp;chips=q:virat+kohli,g_1:sketch&amp;sa=X&amp;ved=0ahUKEwjy9vSa6qOGAxXNklYBHUzfCfUQ4lYIFCgJ\">sketch</a></div><div><table class=\"GpQGbf\"><tr><td align=\"center\" class=\"e3goi\"><div class=\"jjVJ4e\"> <div> <div class=\"lIMUZd\"><div><table class=\"RntSmf\"><tr><td><a href=\"/url?q=https://timesofindia.indiatimes.com/sports/cricket/ipl/top-stories/virat-kohlis-sensational-ipl-2024-campaign-ends-on-a-bittersweet-note/articleshow/110342197.cms&amp;sa=U&amp;ved=2ahUKEwjy9vSa6qOGAxXNklYBHUzfCfUQqoUBegQIAxAB&amp;usg=AOvVaw3KRfAIDJmy4e_dPMMXVPxe\"><div class=\"kCmkOe\"><img alt=\"\" class=\"DS1iW\" src=\"https://encrypted-tbn0.gstatic.com/images?q=tbn:ANd9GcQIXrLoifWno72QHCyG9u97yfxyiqZEr6GCXyIgA5NTsbJYfksz1IoN_qlNFg&amp;s\"/></div></a></td></tr><tr><td><a href=\"/url?q=https://timesofindia.indiatimes.com/sports/cricket/ipl/top-stories/virat-kohlis-sensational-ipl-2024-campaign-ends-on-a-bittersweet-note/articleshow/110342197.cms&amp;sa=U&amp;ved=2ahUKEwjy9vSa6qOGAxXNklYBHUzfCfUQr4kDegQIAxAC&amp;usg=AOvVaw3BAfifGtVdQVxMrvAhuOKN\"><div class=\"AlD19d\"> <span class=\"qXLe6d x3G5ab\"> <span class=\"fYyStc\">Virat Kohli's sensational...</span> </span> <span class=\"qXLe6d F9iS2e\"> <span class=\"fYyStc\">timesofindia.indiatimes.com...</span> </span> </div></a></td></tr></table></div></div> </div> </div></td><td align=\"center\" class=\"e3goi\"><div class=\"jjVJ4e\"> <div> <div class=\"lIMUZd\"><div><table class=\"RntSmf\"><tr><td><a href=\"/url?q=https://y20india.in/serious-security-threat-to-virat-kohli-forces-rcb-to-cancel-practice-session/&amp;sa=U&amp;ved=2ahUKEwjy9vSa6qOGAxXNklYBHUzfCfUQqoUBegQIExAB&amp;usg=AOvVaw2mG6K2OQddR1LWJMHjCLXY\"><div class=\"kCmkOe\"><img alt=\"\" class=\"DS1iW\" src=\"https://encrypted-tbn0.gstatic.com/images?q=tbn:ANd9GcS1LbZBO0zcs8dl0O6apX23tOwhY78lNFhU09niiKN7UyggOZB3s3SgowHCW-g&amp;s\"/></div></a></td></tr><tr><td><a href=\"/url?q=https://y20india.in/serious-security-threat-to-virat-kohli-forces-rcb-to-cancel-practice-session/&amp;sa=U&amp;ved=2ahUKEwjy9vSa6qOGAxXNklYBHUzfCfUQr4kDegQIExAC&amp;usg=AOvVaw3vUhDLc8xI-A5L-Fb1updj\"><div class=\"AlD19d\"> <span class=\"qXLe6d x3G5ab\"> <span class=\"fYyStc\">Serious Security Threat to...</span> </span> <span class=\"qXLe6d F9iS2e\"> <span class=\"fYyStc\">y20india.in</span> </span> </div></a></td></tr></table></div></div> </div> </div></td><td align=\"center\" class=\"e3goi\"><div class=\"jjVJ4e\"> <div> <div class=\"lIMUZd\"><div><table class=\"RntSmf\"><tr><td><a href=\"/url?q=https://en.wikipedia.org/wiki/Virat_Kohli&amp;sa=U&amp;ved=2ahUKEwjy9vSa6qOGAxXNklYBHUzfCfUQqoUBegQIEhAB&amp;usg=AOvVaw1gyOdP4dmcZ7L8c9HyD3NJ\"><div class=\"kCmkOe\"><img alt=\"\" class=\"DS1iW\" src=\"https://encrypted-tbn0.gstatic.com/images?q=tbn:ANd9GcSApOD8cC7Jh33c0VqbcFkcmx0og9wr1DYsD50a8Tp3p-0I33M_SuuLXA0Kizk&amp;s\"/></div></a></td></tr><tr><td><a href=\"/url?q=https://en.wikipedia.org/wiki/Virat_Kohli&amp;sa=U&amp;ved=2ahUKEwjy9vSa6qOGAxXNklYBHUzfCfUQr4kDegQIEhAC&amp;usg=AOvVaw2i2OS04rr-FZYzCBTRt3Ws\"><div class=\"AlD19d\"> <span class=\"qXLe6d x3G5ab\"> <span class=\"fYyStc\">Virat Kohli - Wikipedia</span> </span> <span class=\"qXLe6d F9iS2e\"> <span class=\"fYyStc\">en.wikipedia.org</span> </span> </div></a></td></tr></table></div></div> </div> </div></td><td align=\"center\" class=\"e3goi\"><div class=\"jjVJ4e\"> <div> <div class=\"lIMUZd\"><div><table class=\"RntSmf\"><tr><td><a href=\"/url?q=https://www.news18.com/cricket/dejected-virat-kohli-knocking-over-bails-after-rcbs-loss-brings-back-heart-wrenching-world-cup-2023-final-memories-8900962.html&amp;sa=U&amp;ved=2ahUKEwjy9vSa6qOGAxXNklYBHUzfCfUQqoUBegQICxAB&amp;usg=AOvVaw3QQfiTdJ7Xuh32UPl2xe3a\"><div class=\"kCmkOe\"><img alt=\"\" class=\"DS1iW\" src=\"https://encrypted-tbn0.gstatic.com/images?q=tbn:ANd9GcQV42TA0gUiV-L-0iyg63SRHBMkoOmJNtoL7fz8W64XPZgSslL7lSAFqf1EOEw&amp;s\"/></div></a></td></tr><tr><td><a href=\"/url?q=https://www.news18.com/cricket/dejected-virat-kohli-knocking-over-bails-after-rcbs-loss-brings-back-heart-wrenching-world-cup-2023-final-memories-8900962.html&amp;sa=U&amp;ved=2ahUKEwjy9vSa6qOGAxXNklYBHUzfCfUQr4kDegQICxAC&amp;usg=AOvVaw1DKBAuQrWS6jtlzoDezCpJ\"><div class=\"AlD19d\"> <span class=\"qXLe6d x3G5ab\"> <span class=\"fYyStc\">Dejected Virat Kohli...</span> </span> <span class=\"qXLe6d F9iS2e\"> <span class=\"fYyStc\">www.news18.com</span> </span> </div></a></td></tr></table></div></div> </div> </div></td></tr><tr><td align=\"center\" class=\"e3goi\"><div class=\"jjVJ4e\"> <div> <div class=\"lIMUZd\"><div><table class=\"RntSmf\"><tr><td><a href=\"/url?q=https://sports.ndtv.com/ipl-2024/today-virat-kohli-has-shown-virender-sehwag-ends-strike-rate-debate-over-rcb-star-5697777&amp;sa=U&amp;ved=2ahUKEwjy9vSa6qOGAxXNklYBHUzfCfUQqoUBegQICRAB&amp;usg=AOvVaw3rTkJpnKUpa65Z4mTGFp2J\"><div class=\"kCmkOe\"><img alt=\"\" class=\"DS1iW\" src=\"https://encrypted-tbn0.gstatic.com/images?q=tbn:ANd9GcSzyUxmXw7oT7laBS-k2TpTC7J7jPJhFLMsEbN2ikrziUKJ_jUmMzwt77QrcfE&amp;s\"/></div></a></td></tr><tr><td><a href=\"/url?q=https://sports.ndtv.com/ipl-2024/today-virat-kohli-has-shown-virender-sehwag-ends-strike-rate-debate-over-rcb-star-5697777&amp;sa=U&amp;ved=2ahUKEwjy9vSa6qOGAxXNklYBHUzfCfUQr4kDegQICRAC&amp;usg=AOvVaw0M6tUyYq3SRUC1fa9Rtbj9\"><div class=\"AlD19d\"> <span class=\"qXLe6d x3G5ab\"> <span class=\"fYyStc\">Virat Kohli Has Shown...\":...</span> </span> <span class=\"qXLe6d F9iS2e\"> <span class=\"fYyStc\">sports.ndtv.com</span> </span> </div></a></td></tr></table></div></div> </div> </div></td><td align=\"center\" class=\"e3goi\"><div class=\"jjVJ4e\"> <div> <div class=\"lIMUZd\"><div><table class=\"RntSmf\"><tr><td><a href=\"/url?q=https://www.hindustantimes.com/cricket/rcb-cancel-practice-press-meet-after-threat-to-virat-kohlis-security-following-4-arrests-on-terror-suspicion-report-101716363277185.html&amp;sa=U&amp;ved=2ahUKEwjy9vSa6qOGAxXNklYBHUzfCfUQqoUBegQIDRAB&amp;usg=AOvVaw3mVxhYdo1T6wkyFxA9x-PL\"><div class=\"kCmkOe\"><img alt=\"\" class=\"DS1iW\" src=\"https://encrypted-tbn0.gstatic.com/images?q=tbn:ANd9GcQWX_AJlXofWxi-7xUfBkAZ5RUgd72ksVMumgDqOwNYwczQBXdB1GAPxsxj3w&amp;s\"/></div></a></td></tr><tr><td><a href=\"/url?q=https://www.hindustantimes.com/cricket/rcb-cancel-practice-press-meet-after-threat-to-virat-kohlis-security-following-4-arrests-on-terror-suspicion-report-101716363277185.html&amp;sa=U&amp;ved=2ahUKEwjy9vSa6qOGAxXNklYBHUzfCfUQr4kDegQIDRAC&amp;usg=AOvVaw36cQBpAgzMrwKnSZjQlzeU\"><div class=\"AlD19d\"> <span class=\"qXLe6d x3G5ab\"> <span class=\"fYyStc\">RCB cancel practice, press...</span> </span> <span class=\"qXLe6d F9iS2e\"> <span class=\"fYyStc\">www.hindustantimes.com</span> </span> </div></a></td></tr></table></div></div> </div> </div></td><td align=\"center\" class=\"e3goi\"><div class=\"jjVJ4e\"> <div> <div class=\"lIMUZd\"><div><table class=\"RntSmf\"><tr><td><a href=\"/url?q=https://www.iplt20.com/teams/royal-challengers-bengaluru/squad-details/164&amp;sa=U&amp;ved=2ahUKEwjy9vSa6qOGAxXNklYBHUzfCfUQqoUBegQIDhAB&amp;usg=AOvVaw3JvfRsg1EwONKuTy_Jvifr\"><div class=\"kCmkOe\"><img alt=\"\" class=\"DS1iW\" src=\"https://encrypted-tbn0.gstatic.com/images?q=tbn:ANd9GcQZHFXnxqfUzhsxgkbAOa5GKnokACUF1sdIMXmDVmJk15snU-wnhanIH_amsQ&amp;s\"/></div></a></td></tr><tr><td><a href=\"/url?q=https://www.iplt20.com/teams/royal-challengers-bengaluru/squad-details/164&amp;sa=U&amp;ved=2ahUKEwjy9vSa6qOGAxXNklYBHUzfCfUQr4kDegQIDhAC&amp;usg=AOvVaw3uZmbU7DgUhjG4_M-TOsBu\"><div class=\"AlD19d\"> <span class=\"qXLe6d x3G5ab\"> <span class=\"fYyStc\">IPL 2024 | Royal...</span> </span> <span class=\"qXLe6d F9iS2e\"> <span class=\"fYyStc\">www.iplt20.com</span> </span> </div></a></td></tr></table></div></div> </div> </div></td><td align=\"center\" class=\"e3goi\"><div class=\"jjVJ4e\"> <div> <div class=\"lIMUZd\"><div><table class=\"RntSmf\"><tr><td><a href=\"/url?q=https://timesofindia.indiatimes.com/sports/cricket/ipl/top-stories/why-cant-he-go-kevin-pietersen-suggests-virat-kohli-to-leave-rcb-and-join-/articleshow/110357100.cms&amp;sa=U&amp;ved=2ahUKEwjy9vSa6qOGAxXNklYBHUzfCfUQqoUBegQIDBAB&amp;usg=AOvVaw0jtXSBC4kGqWYfbLquWcJ8\"><div class=\"kCmkOe\"><img alt=\"\" class=\"DS1iW\" src=\"https://encrypted-tbn0.gstatic.com/images?q=tbn:ANd9GcRL-iMBKiNSCxP3llPIWZQITrXrkdjoNJ_cErnNof3sYcWK6n_tasBsrHqhkmE&amp;s\"/></div></a></td></tr><tr><td><a href=\"/url?q=https://timesofindia.indiatimes.com/sports/cricket/ipl/top-stories/why-cant-he-go-kevin-pietersen-suggests-virat-kohli-to-leave-rcb-and-join-/articleshow/110357100.cms&amp;sa=U&amp;ved=2ahUKEwjy9vSa6qOGAxXNklYBHUzfCfUQr4kDegQIDBAC&amp;usg=AOvVaw2_EWbZjLXbhm3k8pb0KTL6\"><div class=\"AlD19d\"> <span class=\"qXLe6d x3G5ab\"> <span class=\"fYyStc\">Virat Kohli: 'Why can't he...</span> </span> <span class=\"qXLe6d F9iS2e\"> <span class=\"fYyStc\">timesofindia.indiatimes.com...</span> </span> </div></a></td></tr></table></div></div> </div> </div></td></tr><tr><td align=\"center\" class=\"e3goi\"><div class=\"jjVJ4e\"> <div> <div class=\"lIMUZd\"><div><table class=\"RntSmf\"><tr><td><a href=\"/url?q=https://www.news18.com/cricket/started-playing-for-our-own-self-respect-virat-kohli-reveals-what-helped-rcb-turn-around-their-wr-hed-ipl-2024-start-8901173.html&amp;sa=U&amp;ved=2ahUKEwjy9vSa6qOGAxXNklYBHUzfCfUQqoUBegQIEBAB&amp;usg=AOvVaw219E9RInq-6QRJEGWYcX0b\"><div class=\"kCmkOe\"><img alt=\"\" class=\"DS1iW\" src=\"https://encrypted-tbn0.gstatic.com/images?q=tbn:ANd9GcRQb-kTtsGlxHOOQ3p5kA8ebVTj1A6F79ID6juJzHTZ5YW3J8JDN7xoNvtsqA&amp;s\"/></div></a></td></tr><tr><td><a href=\"/url?q=https://www.news18.com/cricket/started-playing-for-our-own-self-respect-virat-kohli-reveals-what-helped-rcb-turn-around-their-wr-hed-ipl-2024-start-8901173.html&amp;sa=U&amp;ved=2ahUKEwjy9vSa6qOGAxXNklYBHUzfCfUQr4kDegQIEBAC&amp;usg=AOvVaw0DSC1pmPa22wZ7rglR5V84\"><div class=\"AlD19d\"> <span class=\"qXLe6d x3G5ab\"> <span class=\"fYyStc\">Started Playing for Our Own...</span> </span> <span class=\"qXLe6d F9iS2e\"> <span class=\"fYyStc\">www.news18.com</span> </span> </div></a></td></tr></table></div></div> </div> </div></td><td align=\"center\" class=\"e3goi\"><div class=\"jjVJ4e\"> <div> <div class=\"lIMUZd\"><div><table class=\"RntSmf\"><tr><td><a href=\"/url?q=https://www.indiatoday.in/sports/cricket/story/ipl-2024-eliminator-virat-kohli-bail-drop-rcb-2542750-2024-05-23&amp;sa=U&amp;ved=2ahUKEwjy9vSa6qOGAxXNklYBHUzfCfUQqoUBegQIChAB&amp;usg=AOvVaw2Pbz7eNSS7S4NqTC-_HyJW\"><div class=\"kCmkOe\"><img alt=\"\" class=\"DS1iW\" src=\"https://encrypted-tbn0.gstatic.com/images?q=tbn:ANd9GcRFRLVzdA-5Blrk1Aqf667e1yBTXFxqvsAuvn2_BrANXRclpTfSXh_DHxBEWA&amp;s\"/></div></a></td></tr><tr><td><a href=\"/url?q=https://www.indiatoday.in/sports/cricket/story/ipl-2024-eliminator-virat-kohli-bail-drop-rcb-2542750-2024-05-23&amp;sa=U&amp;ved=2ahUKEwjy9vSa6qOGAxXNklYBHUzfCfUQr4kDegQIChAC&amp;usg=AOvVaw1DEjQ0LKUWim9rFlZdzKfq\"><div class=\"AlD19d\"> <span class=\"qXLe6d x3G5ab\"> <span class=\"fYyStc\">IPL 2024 Eliminator: Virat...</span> </span> <span class=\"qXLe6d F9iS2e\"> <span class=\"fYyStc\">www.indiatoday.in</span> </span> </div></a></td></tr></table></div></div> </div> </div></td><td align=\"center\" class=\"e3goi\"><div class=\"jjVJ4e\"> <div> <div class=\"lIMUZd\"><div><table class=\"RntSmf\"><tr><td><a href=\"/url?q=https://www.financialexpress.com/life/lifestyle-inside-the-life-of-cricket-icon-virat-kohli-know-abouthis-lifestyle-achievements-brand-endorsements-and-net-worth-3493759/&amp;sa=U&amp;ved=2ahUKEwjy9vSa6qOGAxXNklYBHUzfCfUQqoUBegQIERAB&amp;usg=AOvVaw1CqcwrB9dihJzHFKKuPAWJ\"><div class=\"kCmkOe\"><img alt=\"\" class=\"DS1iW\" src=\"https://encrypted-tbn0.gstatic.com/images?q=tbn:ANd9GcQwz_rAJ1rPn3Ot_rdeW7rpbhgq9hhn_U3qMuHq7xm3Pr8izR4xFsMsS80poWk&amp;s\"/></div></a></td></tr><tr><td><a href=\"/url?q=https://www.financialexpress.com/life/lifestyle-inside-the-life-of-cricket-icon-virat-kohli-know-abouthis-lifestyle-achievements-brand-endorsements-and-net-worth-3493759/&amp;sa=U&amp;ved=2ahUKEwjy9vSa6qOGAxXNklYBHUzfCfUQr4kDegQIERAC&amp;usg=AOvVaw2RSstDEyFJN8Tt5hJIE2I3\"><div class=\"AlD19d\"> <span class=\"qXLe6d x3G5ab\"> <span class=\"fYyStc\">Inside the life of cricket...</span> </span> <span class=\"qXLe6d F9iS2e\"> <span class=\"fYyStc\">www.financialexpress.com</span> </span> </div></a></td></tr></table></div></div> </div> </div></td><td align=\"center\" class=\"e3goi\"><div class=\"jjVJ4e\"> <div> <div class=\"lIMUZd\"><div><table class=\"RntSmf\"><tr><td><a href=\"/url?q=https://www.livemint.com/sports/cricket-news/virat-kohli-trolled-by-csk-fans-following-rcbs-exit-from-ipl-2024-agression-always-costs-them-11716428135472.html&amp;sa=U&amp;ved=2ahUKEwjy9vSa6qOGAxXNklYBHUzfCfUQqoUBegQIDxAB&amp;usg=AOvVaw3Asc-Bpn3ABMzv3pXsIz6n\"><div class=\"kCmkOe\"><img alt=\"\" class=\"DS1iW\" src=\"https://encrypted-tbn0.gstatic.com/images?q=tbn:ANd9GcQCX4CilyXmya5qDG8xFLGe0XBLs9YoKP__7BBPXc4WbJwqloNyf00SanER7nQ&amp;s\"/></div></a></td></tr><tr><td><a href=\"/url?q=https://www.livemint.com/sports/cricket-news/virat-kohli-trolled-by-csk-fans-following-rcbs-exit-from-ipl-2024-agression-always-costs-them-11716428135472.html&amp;sa=U&amp;ved=2ahUKEwjy9vSa6qOGAxXNklYBHUzfCfUQr4kDegQIDxAC&amp;usg=AOvVaw3QR6VaL0Qi-DmXmpS-Ezss\"><div class=\"AlD19d\"> <span class=\"qXLe6d x3G5ab\"> <span class=\"fYyStc\">Virat Kohli trolled by CSK...</span> </span> <span class=\"qXLe6d F9iS2e\"> <span class=\"fYyStc\">www.livemint.com</span> </span> </div></a></td></tr></table></div></div> </div> </div></td></tr><tr><td align=\"center\" class=\"e3goi\"><div class=\"jjVJ4e\"> <div> <div class=\"lIMUZd\"><div><table class=\"RntSmf\"><tr><td><a href=\"/url?q=https://www.britannica.com/biography/Virat-Kohli&amp;sa=U&amp;ved=2ahUKEwjy9vSa6qOGAxXNklYBHUzfCfUQqoUBegQIABAB&amp;usg=AOvVaw2NIkyjxZjabH5j3uDznbuB\"><div class=\"kCmkOe\"><img alt=\"\" class=\"DS1iW\" src=\"https://encrypted-tbn0.gstatic.com/images?q=tbn:ANd9GcQq8X0nLNaCzy7-IB3JuFXdBf8TU8Osb9_3kM_zz_nV_7K3F5pk8RPNXJHQB-M&amp;s\"/></div></a></td></tr><tr><td><a href=\"/url?q=https://www.britannica.com/biography/Virat-Kohli&amp;sa=U&amp;ved=2ahUKEwjy9vSa6qOGAxXNklYBHUzfCfUQr4kDegQIABAC&amp;usg=AOvVaw0QUbs-yEgdyskdRLZnXlgX\"><div class=\"AlD19d\"> <span class=\"qXLe6d x3G5ab\"> <span class=\"fYyStc\">Virat Kohli | Life, Career,...</span> </span> <span class=\"qXLe6d F9iS2e\"> <span class=\"fYyStc\">www.britannica.com</span> </span> </div></a></td></tr></table></div></div> </div> </div></td><td align=\"center\" class=\"e3goi\"><div class=\"jjVJ4e\"> <div> <div class=\"lIMUZd\"><div><table class=\"RntSmf\"><tr><td><a href=\"/url?q=https://sports.ndtv.com/ipl-2024/1st-time-in-17-years-virat-kohli-scripts-ipl-history-with-massive-batting-record-5723591&amp;sa=U&amp;ved=2ahUKEwjy9vSa6qOGAxXNklYBHUzfCfUQqoUBegQICBAB&amp;usg=AOvVaw0FVWAgyt-cVVV6Djvlp-Lz\"><div class=\"kCmkOe\"><img alt=\"\" class=\"DS1iW\" src=\"https://encrypted-tbn0.gstatic.com/images?q=tbn:ANd9GcSSNGH1GHE62uezcR-xHy-LTQNW32V6wErvlncQIGTQwQlQReA9uzLAUD2_1Q&amp;s\"/></div></a></td></tr><tr><td><a href=\"/url?q=https://sports.ndtv.com/ipl-2024/1st-time-in-17-years-virat-kohli-scripts-ipl-history-with-massive-batting-record-5723591&amp;sa=U&amp;ved=2ahUKEwjy9vSa6qOGAxXNklYBHUzfCfUQr4kDegQICBAC&amp;usg=AOvVaw2Y46rCefiMNJf5LhagorYF\"><div class=\"AlD19d\"> <span class=\"qXLe6d x3G5ab\"> <span class=\"fYyStc\">First Time Ever: Virat...</span> </span> <span class=\"qXLe6d F9iS2e\"> <span class=\"fYyStc\">sports.ndtv.com</span> </span> </div></a></td></tr></table></div></div> </div> </div></td><td align=\"center\" class=\"e3goi\"><div class=\"jjVJ4e\"> <div> <div class=\"lIMUZd\"><div><table class=\"RntSmf\"><tr><td><a href=\"/url?q=https://www.hindustantimes.com/cricket/players/virat-kohli-3993&amp;sa=U&amp;ved=2ahUKEwjy9vSa6qOGAxXNklYBHUzfCfUQqoUBegQIBhAB&amp;usg=AOvVaw0oNADaeSU5fySeszHmRn89\"><div class=\"kCmkOe\"><img alt=\"\" class=\"DS1iW\" src=\"https://encrypted-tbn0.gstatic.com/images?q=tbn:ANd9GcT2YwgGXksv0jbz7Yhw-qBVeg_MB7FfiXR-jTTzmczYqS3-HHj8JzqdqEiRYg&amp;s\"/></div></a></td></tr><tr><td><a href=\"/url?q=https://www.hindustantimes.com/cricket/players/virat-kohli-3993&amp;sa=U&amp;ved=2ahUKEwjy9vSa6qOGAxXNklYBHUzfCfUQr4kDegQIBhAC&amp;usg=AOvVaw3l_AmKQLbKAbg2JEA7Mt-1\"><div class=\"AlD19d\"> <span class=\"qXLe6d x3G5ab\"> <span class=\"fYyStc\">Virat Kohli Profile - Virat...</span> </span> <span class=\"qXLe6d F9iS2e\"> <span class=\"fYyStc\">www.hindustantimes.com</span> </span> </div></a></td></tr></table></div></div> </div> </div></td><td align=\"center\" class=\"e3goi\"><div class=\"jjVJ4e\"> <div> <div class=\"lIMUZd\"><div><table class=\"RntSmf\"><tr><td><a href=\"/url?q=https://www.deccanherald.com/ampstories/lifestyle/fashion/virat-kohlis-new-look-set-the-internet-on-fire-2943091&amp;sa=U&amp;ved=2ahUKEwjy9vSa6qOGAxXNklYBHUzfCfUQqoUBegQIBBAB&amp;usg=AOvVaw2Dzsejkeb732Ycv5sCWTiP\"><div class=\"kCmkOe\"><img alt=\"\" class=\"DS1iW\" src=\"https://encrypted-tbn0.gstatic.com/images?q=tbn:ANd9GcQT5IoMXUQCHhtZPp9KfonIJmsBc_tLgREuWeTZfe8lwhGmMSsMPb3m9lHLbME&amp;s\"/></div></a></td></tr><tr><td><a href=\"/url?q=https://www.deccanherald.com/ampstories/lifestyle/fashion/virat-kohlis-new-look-set-the-internet-on-fire-2943091&amp;sa=U&amp;ved=2ahUKEwjy9vSa6qOGAxXNklYBHUzfCfUQr4kDegQIBBAC&amp;usg=AOvVaw1fXGZEMHuGJzoIFM8idZ35\"><div class=\"AlD19d\"> <span class=\"qXLe6d x3G5ab\"> <span class=\"fYyStc\">Virat Kohli's new look sets...</span> </span> <span class=\"qXLe6d F9iS2e\"> <span class=\"fYyStc\">www.deccanherald.com</span> </span> </div></a></td></tr></table></div></div> </div> </div></td></tr><tr><td align=\"center\" class=\"e3goi\"><div class=\"jjVJ4e\"> <div> <div class=\"lIMUZd\"><div><table class=\"RntSmf\"><tr><td><a href=\"/url?q=https://sports.ndtv.com/ipl-2024/security-threat-to-virat-kohli-prompts-rcb-to-cancel-practice-session-ahead-of-ipl-2024-eliminator-5719678&amp;sa=U&amp;ved=2ahUKEwjy9vSa6qOGAxXNklYBHUzfCfUQqoUBegQIAhAB&amp;usg=AOvVaw1Ng-C20i4C5xBiSaxXV_AO\"><div class=\"kCmkOe\"><img alt=\"\" class=\"DS1iW\" src=\"https://encrypted-tbn0.gstatic.com/images?q=tbn:ANd9GcSaDT4Dkbw9ChNb_T3X-94sr4aIHKrY5-dF5kPBmpWmNtEmWVTkZdD6Zga2og&amp;s\"/></div></a></td></tr><tr><td><a href=\"/url?q=https://sports.ndtv.com/ipl-2024/security-threat-to-virat-kohli-prompts-rcb-to-cancel-practice-session-ahead-of-ipl-2024-eliminator-5719678&amp;sa=U&amp;ved=2ahUKEwjy9vSa6qOGAxXNklYBHUzfCfUQr4kDegQIAhAC&amp;usg=AOvVaw38iG8-5ZvIxl9YPeUaHr1T\"><div class=\"AlD19d\"> <span class=\"qXLe6d x3G5ab\"> <span class=\"fYyStc\">Serious Security Threat To...</span> </span> <span class=\"qXLe6d F9iS2e\"> <span class=\"fYyStc\">sports.ndtv.com</span> </span> </div></a></td></tr></table></div></div> </div> </div></td><td align=\"center\" class=\"e3goi\"><div class=\"jjVJ4e\"> <div> <div class=\"lIMUZd\"><div><table class=\"RntSmf\"><tr><td><a href=\"/url?q=https://indianexpress.com/article/sports/ipl/virat-kohli-first-to-8000-runs-ipl-records-9345426/&amp;sa=U&amp;ved=2ahUKEwjy9vSa6qOGAxXNklYBHUzfCfUQqoUBegQIARAB&amp;usg=AOvVaw0kNi-sliI8-j91WsR_EIJw\"><div class=\"kCmkOe\"><img alt=\"\" class=\"DS1iW\" src=\"https://encrypted-tbn0.gstatic.com/images?q=tbn:ANd9GcSFWfvJ1I0vP9OtEm4jozf3Qnx5OuAmbrHbpAfn_87eSyZq0XbZ_f5gIqV9lg&amp;s\"/></div></a></td></tr><tr><td><a href=\"/url?q=https://indianexpress.com/article/sports/ipl/virat-kohli-first-to-8000-runs-ipl-records-9345426/&amp;sa=U&amp;ved=2ahUKEwjy9vSa6qOGAxXNklYBHUzfCfUQr4kDegQIARAC&amp;usg=AOvVaw1UPmUMSsLWf1yGPjL3xADf\"><div class=\"AlD19d\"> <span class=\"qXLe6d x3G5ab\"> <span class=\"fYyStc\">Virat Kohli becomes first...</span> </span> <span class=\"qXLe6d F9iS2e\"> <span class=\"fYyStc\">indianexpress.com</span> </span> </div></a></td></tr></table></div></div> </div> </div></td><td align=\"center\" class=\"e3goi\"><div class=\"jjVJ4e\"> <div> <div class=\"lIMUZd\"><div><table class=\"RntSmf\"><tr><td><a href=\"/url?q=https://sports.ndtv.com/ipl-2024/virat-kohlis-reaction-to-your-friend-sunil-remark-from-stuns-internet-5682674&amp;sa=U&amp;ved=2ahUKEwjy9vSa6qOGAxXNklYBHUzfCfUQqoUBegQIBxAB&amp;usg=AOvVaw3dFCNn3lC2mKJ016sRS84R\"><div class=\"kCmkOe\"><img alt=\"\" class=\"DS1iW\" src=\"https://encrypted-tbn0.gstatic.com/images?q=tbn:ANd9GcRYiBTGyyzRL8NoY2LPcq8jgGcXDnVP3J851mqCdrEAcq4OZ1tvxhuPpLiA1_E&amp;s\"/></div></a></td></tr><tr><td><a href=\"/url?q=https://sports.ndtv.com/ipl-2024/virat-kohlis-reaction-to-your-friend-sunil-remark-from-stuns-internet-5682674&amp;sa=U&amp;ved=2ahUKEwjy9vSa6qOGAxXNklYBHUzfCfUQr4kDegQIBxAC&amp;usg=AOvVaw1WViYErQ984jh8_vxcstDC\"><div class=\"AlD19d\"> <span class=\"qXLe6d x3G5ab\"> <span class=\"fYyStc\">Virat Kohli's Reaction To...</span> </span> <span class=\"qXLe6d F9iS2e\"> <span class=\"fYyStc\">sports.ndtv.com</span> </span> </div></a></td></tr></table></div></div> </div> </div></td><td align=\"center\" class=\"e3goi\"><div class=\"jjVJ4e\"> <div> <div class=\"lIMUZd\"><div><table class=\"RntSmf\"><tr><td><a href=\"/url?q=https://www.espncricinfo.com/cricketers/virat-kohli-253802&amp;sa=U&amp;ved=2ahUKEwjy9vSa6qOGAxXNklYBHUzfCfUQqoUBegQIBRAB&amp;usg=AOvVaw0m4KuoJHtbt0LlECtcDEEe\"><div class=\"kCmkOe\"><img alt=\"\" class=\"DS1iW\" src=\"https://encrypted-tbn0.gstatic.com/images?q=tbn:ANd9GcTjRYXqKpwxHkFa9Vz7wH-dkSRYDx0WPwGY5PpsmMSy5DETP_ts5F9K5Hf9qw&amp;s\"/></div></a></td></tr><tr><td><a href=\"/url?q=https://www.espncricinfo.com/cricketers/virat-kohli-253802&amp;sa=U&amp;ved=2ahUKEwjy9vSa6qOGAxXNklYBHUzfCfUQr4kDegQIBRAC&amp;usg=AOvVaw2-jH5RNXTLZBNLkRvanUo8\"><div class=\"AlD19d\"> <span class=\"qXLe6d x3G5ab\"> <span class=\"fYyStc\">Virat Kohli Profile -...</span> </span> <span class=\"qXLe6d F9iS2e\"> <span class=\"fYyStc\">www.espncricinfo.com</span> </span> </div></a></td></tr></table></div></div> </div> </div></td></tr></table></div><table class=\"uZgmoc\"><tbody><td><a class=\"frGj1b\" href=\"/search?q=virat+kohli&amp;sca_esv=f0b39c056d6199a4&amp;sca_upv=1&amp;biw=1098&amp;bih=551&amp;ie=UTF-8&amp;tbm=isch&amp;ei=-D1PZvKaL82l2roPzL6nqA8&amp;start=20&amp;sa=N\">Next &gt;</a></td></tbody></table><br/><div class=\"TuS8Ad\" data-ved=\"0ahUKEwjy9vSa6qOGAxXNklYBHUzfCfUQpyoIUg\"><style>.VYM29{font-weight:bold}</style><div align=\"center\" class=\"HddGcc\"><span class=\"VYM29\">201005, Ghaziabad, Uttar Pradesh</span><span> - </span><span>From your IP address</span><span> - </span><a href=\"/url?q=https://support.google.com/websearch%3Fp%3Dws_settings_location%26hl%3Den-IN&amp;opi=89978449&amp;sa=U&amp;ved=0ahUKEwjy9vSa6qOGAxXNklYBHUzfCfUQty4IUw&amp;usg=AOvVaw1LSmMtzyfeyEBRXDWpoG_9\">Learn more</a></div><div align=\"center\"><a class=\"rEM8G\" href=\"/url?q=https://accounts.google.com/ServiceLogin%3Fcontinue%3Dhttps://www.google.com/search%253Fq%253Dvirat%252Bkohli%2526sca_esv%253Df0b39c056d6199a4%2526sca_upv%253D1%2526prmd%253Dinvtzbms%2526sxsrf%253DADLYWILR-hxGqkv-4UD0o00xFfYjj-Z6NA:1716466821584%2526source%253Dlnms%2526sa%253DX%2526ved%253D2ahUKEwie5qyZ4aOGAxUU1zgGHW1zBQ8Q0pQJegQIBhAE%2526biw%253D1098%2526bih%253D551%2526dpr%253D1.75%2526tbm%253Disch%26hl%3Den&amp;opi=89978449&amp;sa=U&amp;ved=0ahUKEwjy9vSa6qOGAxXNklYBHUzfCfUQxs8CCFQ&amp;usg=AOvVaw2wzyagzALWX0JzARK7PNxA\">Sign in</a></div><div><table class=\"bookcf\"><tbody class=\"InWNIe\"><tr><td><a class=\"rEM8G\" href=\"https://www.google.com/preferences?hl=en&amp;sa=X&amp;ved=0ahUKEwjy9vSa6qOGAxXNklYBHUzfCfUQv5YECFU\">Settings</a></td><td><a class=\"rEM8G\" href=\"https://www.google.com/intl/en_in/policies/privacy/\">Privacy</a></td><td><a class=\"rEM8G\" href=\"https://www.google.com/intl/en_in/policies/terms/\">Terms</a></td></tr></tbody></table></div></div><div> </div></body></html>"
      ]
     },
     "execution_count": 50,
     "metadata": {},
     "output_type": "execute_result"
    }
   ],
   "source": [
    "soup     # To access the content"
   ]
  },
  {
   "cell_type": "code",
   "execution_count": 51,
   "id": "78e43b09-4b19-4780-aa49-0d1e64093b2e",
   "metadata": {},
   "outputs": [],
   "source": [
    "image_tag = soup.find_all(\"img\")"
   ]
  },
  {
   "cell_type": "code",
   "execution_count": 52,
   "id": "925278ae-e93b-4f2a-ba89-1b48e9998823",
   "metadata": {},
   "outputs": [
    {
     "data": {
      "text/plain": [
       "[<img alt=\"Google\" class=\"kgJEQe\" src=\"/images/branding/searchlogo/1x/googlelogo_desk_heirloom_color_150x55dp.gif\"/>,\n",
       " <img alt=\"\" class=\"DS1iW\" src=\"https://encrypted-tbn0.gstatic.com/images?q=tbn:ANd9GcQIXrLoifWno72QHCyG9u97yfxyiqZEr6GCXyIgA5NTsbJYfksz1IoN_qlNFg&amp;s\"/>,\n",
       " <img alt=\"\" class=\"DS1iW\" src=\"https://encrypted-tbn0.gstatic.com/images?q=tbn:ANd9GcS1LbZBO0zcs8dl0O6apX23tOwhY78lNFhU09niiKN7UyggOZB3s3SgowHCW-g&amp;s\"/>,\n",
       " <img alt=\"\" class=\"DS1iW\" src=\"https://encrypted-tbn0.gstatic.com/images?q=tbn:ANd9GcSApOD8cC7Jh33c0VqbcFkcmx0og9wr1DYsD50a8Tp3p-0I33M_SuuLXA0Kizk&amp;s\"/>,\n",
       " <img alt=\"\" class=\"DS1iW\" src=\"https://encrypted-tbn0.gstatic.com/images?q=tbn:ANd9GcQV42TA0gUiV-L-0iyg63SRHBMkoOmJNtoL7fz8W64XPZgSslL7lSAFqf1EOEw&amp;s\"/>,\n",
       " <img alt=\"\" class=\"DS1iW\" src=\"https://encrypted-tbn0.gstatic.com/images?q=tbn:ANd9GcSzyUxmXw7oT7laBS-k2TpTC7J7jPJhFLMsEbN2ikrziUKJ_jUmMzwt77QrcfE&amp;s\"/>,\n",
       " <img alt=\"\" class=\"DS1iW\" src=\"https://encrypted-tbn0.gstatic.com/images?q=tbn:ANd9GcQWX_AJlXofWxi-7xUfBkAZ5RUgd72ksVMumgDqOwNYwczQBXdB1GAPxsxj3w&amp;s\"/>,\n",
       " <img alt=\"\" class=\"DS1iW\" src=\"https://encrypted-tbn0.gstatic.com/images?q=tbn:ANd9GcQZHFXnxqfUzhsxgkbAOa5GKnokACUF1sdIMXmDVmJk15snU-wnhanIH_amsQ&amp;s\"/>,\n",
       " <img alt=\"\" class=\"DS1iW\" src=\"https://encrypted-tbn0.gstatic.com/images?q=tbn:ANd9GcRL-iMBKiNSCxP3llPIWZQITrXrkdjoNJ_cErnNof3sYcWK6n_tasBsrHqhkmE&amp;s\"/>,\n",
       " <img alt=\"\" class=\"DS1iW\" src=\"https://encrypted-tbn0.gstatic.com/images?q=tbn:ANd9GcRQb-kTtsGlxHOOQ3p5kA8ebVTj1A6F79ID6juJzHTZ5YW3J8JDN7xoNvtsqA&amp;s\"/>,\n",
       " <img alt=\"\" class=\"DS1iW\" src=\"https://encrypted-tbn0.gstatic.com/images?q=tbn:ANd9GcRFRLVzdA-5Blrk1Aqf667e1yBTXFxqvsAuvn2_BrANXRclpTfSXh_DHxBEWA&amp;s\"/>,\n",
       " <img alt=\"\" class=\"DS1iW\" src=\"https://encrypted-tbn0.gstatic.com/images?q=tbn:ANd9GcQwz_rAJ1rPn3Ot_rdeW7rpbhgq9hhn_U3qMuHq7xm3Pr8izR4xFsMsS80poWk&amp;s\"/>,\n",
       " <img alt=\"\" class=\"DS1iW\" src=\"https://encrypted-tbn0.gstatic.com/images?q=tbn:ANd9GcQCX4CilyXmya5qDG8xFLGe0XBLs9YoKP__7BBPXc4WbJwqloNyf00SanER7nQ&amp;s\"/>,\n",
       " <img alt=\"\" class=\"DS1iW\" src=\"https://encrypted-tbn0.gstatic.com/images?q=tbn:ANd9GcQq8X0nLNaCzy7-IB3JuFXdBf8TU8Osb9_3kM_zz_nV_7K3F5pk8RPNXJHQB-M&amp;s\"/>,\n",
       " <img alt=\"\" class=\"DS1iW\" src=\"https://encrypted-tbn0.gstatic.com/images?q=tbn:ANd9GcSSNGH1GHE62uezcR-xHy-LTQNW32V6wErvlncQIGTQwQlQReA9uzLAUD2_1Q&amp;s\"/>,\n",
       " <img alt=\"\" class=\"DS1iW\" src=\"https://encrypted-tbn0.gstatic.com/images?q=tbn:ANd9GcT2YwgGXksv0jbz7Yhw-qBVeg_MB7FfiXR-jTTzmczYqS3-HHj8JzqdqEiRYg&amp;s\"/>,\n",
       " <img alt=\"\" class=\"DS1iW\" src=\"https://encrypted-tbn0.gstatic.com/images?q=tbn:ANd9GcQT5IoMXUQCHhtZPp9KfonIJmsBc_tLgREuWeTZfe8lwhGmMSsMPb3m9lHLbME&amp;s\"/>,\n",
       " <img alt=\"\" class=\"DS1iW\" src=\"https://encrypted-tbn0.gstatic.com/images?q=tbn:ANd9GcSaDT4Dkbw9ChNb_T3X-94sr4aIHKrY5-dF5kPBmpWmNtEmWVTkZdD6Zga2og&amp;s\"/>,\n",
       " <img alt=\"\" class=\"DS1iW\" src=\"https://encrypted-tbn0.gstatic.com/images?q=tbn:ANd9GcSFWfvJ1I0vP9OtEm4jozf3Qnx5OuAmbrHbpAfn_87eSyZq0XbZ_f5gIqV9lg&amp;s\"/>,\n",
       " <img alt=\"\" class=\"DS1iW\" src=\"https://encrypted-tbn0.gstatic.com/images?q=tbn:ANd9GcRYiBTGyyzRL8NoY2LPcq8jgGcXDnVP3J851mqCdrEAcq4OZ1tvxhuPpLiA1_E&amp;s\"/>,\n",
       " <img alt=\"\" class=\"DS1iW\" src=\"https://encrypted-tbn0.gstatic.com/images?q=tbn:ANd9GcTjRYXqKpwxHkFa9Vz7wH-dkSRYDx0WPwGY5PpsmMSy5DETP_ts5F9K5Hf9qw&amp;s\"/>]"
      ]
     },
     "execution_count": 52,
     "metadata": {},
     "output_type": "execute_result"
    }
   ],
   "source": [
    "image_tag"
   ]
  },
  {
   "cell_type": "code",
   "execution_count": 29,
   "id": "5c12a723-a2c3-4490-8fc0-5ba983879927",
   "metadata": {},
   "outputs": [
    {
     "data": {
      "text/plain": [
       "[<img alt=\"\" class=\"DS1iW\" src=\"https://encrypted-tbn0.gstatic.com/images?q=tbn:ANd9GcQWIm8IhNbQ8cHHkx25dbTK7_RaRK8DrRrK4GrR4wyApiAsBJPUbhsa7ICjKg&amp;s\"/>,\n",
       " <img alt=\"\" class=\"DS1iW\" src=\"https://encrypted-tbn0.gstatic.com/images?q=tbn:ANd9GcTTO0bYn7LKOBzOMJRp9mXeD2scBnuMtPGfQYqjaBoxMHMtDToYys4awIx7ou8&amp;s\"/>,\n",
       " <img alt=\"\" class=\"DS1iW\" src=\"https://encrypted-tbn0.gstatic.com/images?q=tbn:ANd9GcR8EQAJrHpX-vs7XcC396LwPgEuk0umwMa6Ujq9VvMUZmUWOX-IshmQ0xfLeDA&amp;s\"/>,\n",
       " <img alt=\"\" class=\"DS1iW\" src=\"https://encrypted-tbn0.gstatic.com/images?q=tbn:ANd9GcQY_R5NSNoZkSlMo3hf86COGJ4fCv0s6Nx4k8uCGkWc6YGOn_m4-rIOQ3GhOhg&amp;s\"/>,\n",
       " <img alt=\"\" class=\"DS1iW\" src=\"https://encrypted-tbn0.gstatic.com/images?q=tbn:ANd9GcSjJei_3RFcnMaHSuWdLGH0p6RssgNveUT0ha8zZLaPf5nAvJfIa9T9pOZL978&amp;s\"/>,\n",
       " <img alt=\"\" class=\"DS1iW\" src=\"https://encrypted-tbn0.gstatic.com/images?q=tbn:ANd9GcQfttCzvE_QZTH8Pfvz532ydQhRPJe6ikme_GtPKgasuyRgAQGQj68xX212mw&amp;s\"/>,\n",
       " <img alt=\"\" class=\"DS1iW\" src=\"https://encrypted-tbn0.gstatic.com/images?q=tbn:ANd9GcSFxaFaZ-9kxzoF2HUcQNVVwf0iiYhsx8NsnPbXIsjJZGfKInWE_xDIGcjYCmo&amp;s\"/>,\n",
       " <img alt=\"\" class=\"DS1iW\" src=\"https://encrypted-tbn0.gstatic.com/images?q=tbn:ANd9GcSWquD3V9PShopfxR5z4mBgB3IZnXGWVDSQM_48N0nbiI_0DYg43GVIktea3Uc&amp;s\"/>,\n",
       " <img alt=\"\" class=\"DS1iW\" src=\"https://encrypted-tbn0.gstatic.com/images?q=tbn:ANd9GcTgeyezehUnNU4Z1U2_Fi_dxiMYY2x0SOBZCcMWLoJO55-NPUXa7RyQnxvUp08&amp;s\"/>,\n",
       " <img alt=\"\" class=\"DS1iW\" src=\"https://encrypted-tbn0.gstatic.com/images?q=tbn:ANd9GcQoVC24-iwfmg1ynOoPkfB6fTOMKA4IEscvasg7lr_QSTQQIUU8Gq65d0EOoQ&amp;s\"/>,\n",
       " <img alt=\"\" class=\"DS1iW\" src=\"https://encrypted-tbn0.gstatic.com/images?q=tbn:ANd9GcRiUjYXnbLzwPnTzycn2ItHcUl6UbhYTYYF8JbaVC3rKLx4vjrTBnan-RRZq7Q&amp;s\"/>,\n",
       " <img alt=\"\" class=\"DS1iW\" src=\"https://encrypted-tbn0.gstatic.com/images?q=tbn:ANd9GcQxKSK6v2WSDPdMnhgQpJJmi9vg4Ch_ivZ-sUC8-TTYwNrUD0BukYPu7uC3x1E&amp;s\"/>,\n",
       " <img alt=\"\" class=\"DS1iW\" src=\"https://encrypted-tbn0.gstatic.com/images?q=tbn:ANd9GcRxf-Jbkdb6IZIh7oNtWyJhYtw3Kg80gamyGyRHZS8klkCrAzThS_D2ymM47A&amp;s\"/>,\n",
       " <img alt=\"\" class=\"DS1iW\" src=\"https://encrypted-tbn0.gstatic.com/images?q=tbn:ANd9GcQPvuVvVBy-4sRmLNi7aNFcCiLP38rydifYXwFQfE3bQ2IJ6Q5mmXrZdFCSlw&amp;s\"/>,\n",
       " <img alt=\"\" class=\"DS1iW\" src=\"https://encrypted-tbn0.gstatic.com/images?q=tbn:ANd9GcQhlvtGUTqBn3iKw-7q55iIFJNrP19JddVF9M_Z8vYJN1MlNOr8j-gwm6lX7lI&amp;s\"/>,\n",
       " <img alt=\"\" class=\"DS1iW\" src=\"https://encrypted-tbn0.gstatic.com/images?q=tbn:ANd9GcRJQVy_wbHY9q152oh5t527g3cfxTQ0081QecsNFiW_99bbx7hfNq1fY4ELyg&amp;s\"/>,\n",
       " <img alt=\"\" class=\"DS1iW\" src=\"https://encrypted-tbn0.gstatic.com/images?q=tbn:ANd9GcTGAnNpZ6lOW1yN0AllBGBmSQ5CNkhmGV6ivAB5A9W032BdU6DQ9bDSQVpRFoI&amp;s\"/>,\n",
       " <img alt=\"\" class=\"DS1iW\" src=\"https://encrypted-tbn0.gstatic.com/images?q=tbn:ANd9GcQkqgOWpGbsjvlfXgAzldcUv97Lh_0WqwpXwlrwCzhWF2YHLJO7PQgFKZR7gSg&amp;s\"/>,\n",
       " <img alt=\"\" class=\"DS1iW\" src=\"https://encrypted-tbn0.gstatic.com/images?q=tbn:ANd9GcTFaUMr_6rYzY7Cg-RdUS4A3SWi0SvXxlOF4bSG8cyqfxPdpchP4qT4XFyddQ&amp;s\"/>,\n",
       " <img alt=\"\" class=\"DS1iW\" src=\"https://encrypted-tbn0.gstatic.com/images?q=tbn:ANd9GcQnWySdECZr-A986NJKofMVl9KIU42AGUnOChqfyrdwmoxXzAgTH6LOsWKKiw&amp;s\"/>]"
      ]
     },
     "execution_count": 29,
     "metadata": {},
     "output_type": "execute_result"
    }
   ],
   "source": [
    "image_tag[1:]  # At index 0 there is just description"
   ]
  },
  {
   "cell_type": "code",
   "execution_count": 31,
   "id": "78d61812-2241-4509-8319-6bc55a9cbc2a",
   "metadata": {},
   "outputs": [
    {
     "data": {
      "text/plain": [
       "21"
      ]
     },
     "execution_count": 31,
     "metadata": {},
     "output_type": "execute_result"
    }
   ],
   "source": [
    "len(image_tag)"
   ]
  },
  {
   "cell_type": "code",
   "execution_count": 40,
   "id": "2a62f55d-21fa-44f8-93fc-f3eb642a1b56",
   "metadata": {},
   "outputs": [
    {
     "data": {
      "text/plain": [
       "b'\\xff\\xd8\\xff\\xe0\\x00\\x10JFIF\\x00\\x01\\x01\\x00\\x00\\x01\\x00\\x01\\x00\\x00\\xff\\xdb\\x00\\x84\\x00\\t\\x06\\x07\\x08\\x07\\x06\\t\\x08\\x07\\x08\\n\\n\\t\\x0b\\r\\x16\\x0f\\r\\x0c\\x0c\\r\\x1b\\x14\\x15\\x10\\x16 \\x1d\"\" \\x1d\\x1f\\x1f$(4,$&1\\'\\x1f\\x1f-=-157:::#+?D?8C49:7\\x01\\n\\n\\n\\r\\x0c\\r\\x1a\\x0f\\x0f\\x1a7%\\x1f%77777777777777777777777777777777777777777777777777\\xff\\xc0\\x00\\x11\\x08\\x00\\x8c\\x00j\\x03\\x01\"\\x00\\x02\\x11\\x01\\x03\\x11\\x01\\xff\\xc4\\x00\\x1c\\x00\\x00\\x02\\x02\\x03\\x01\\x01\\x00\\x00\\x00\\x00\\x00\\x00\\x00\\x00\\x00\\x00\\x03\\x04\\x05\\x06\\x00\\x02\\x07\\x01\\x08\\xff\\xc4\\x00>\\x10\\x00\\x02\\x01\\x03\\x02\\x03\\x05\\x05\\x05\\x05\\x07\\x05\\x00\\x00\\x00\\x00\\x01\\x02\\x03\\x00\\x04\\x11\\x05!\\x06\\x121\\x13\"AQa2q\\x81\\x91\\xa1\\x07\\x14#B\\xb1Rb\\xc1\\xd1\\xf1\\x15$34Cr\\xc2S\\xa2\\xa3\\xb2\\xf0\\xff\\xc4\\x00\\x19\\x01\\x00\\x03\\x01\\x01\\x01\\x00\\x00\\x00\\x00\\x00\\x00\\x00\\x00\\x00\\x00\\x00\\x00\\x01\\x02\\x04\\x03\\x05\\xff\\xc4\\x00\\x1e\\x11\\x01\\x01\\x00\\x02\\x02\\x03\\x01\\x01\\x00\\x00\\x00\\x00\\x00\\x00\\x00\\x00\\x00\\x01\\x02\\x11\\x03!\\x121A2\"\\xff\\xda\\x00\\x0c\\x03\\x01\\x00\\x02\\x11\\x03\\x11\\x00?\\x00\\xe3\\x91\\x9e\\x94\\xd2t\\xa5c\\xa6\\x93\\xa5Zk\\x1e\\x95\\x9a\\x9bjVQ\\xbd2\\x85\\xeb(\\x91G\\xda62\\x15GV=\\x05>\\xb6\\x96J\\xd8k\\x80X\\x01\\x95\\xea\\x08\\'\\xa8\\xf7m\\xb5E\\xae\\x92m\\x1b\\x8c\\x8f\\x0f\\x9d{\\xcb\\xb0 \\x83\\x91\\xe1V(\\xac4\\xd2\\xbd\\xc7\\x0cA\\x0c\\xdd}v\\xfd>t\\x91\\xd1\\xae\\x19\\xb1\\x1c{\\x00|w?\\x1fx\\xa5\\xe4~\\x08\\x8f\\x1af\\xd7\\xadi=\\xbc\\xb17\\xe2!\\x15\\xb5\\xb7\\xb5U*,{8\\xa5\\xda\\x99\\xb8\\xebK\\x9e\\xb4\\xe9F\\x9427\\xa2W\\x98\\xa4f\\x16\\x9a\\x8b\\xa5*\\xbd)\\x98\\xfaS*\\xdd\\xa9k\\x8c\\xe5Tc\\x99\\x8e\\x052|\\xa9\\x19K5\\xe0\\x03\\xa88\\x1e\\x94Z1\\xf6\\x95\\xd34K\\xcb\\xcf\\xee\\xeaBF\\xcc\\x0c\\x92\\xe3#\\x1f\\xce\\xba_\\r\\xf0\\x96\\x97k\\x18-l&~\\xac\\xf2\\xeeZ\\xa3\\xf8kMd\\xb1\\x84\\x8d\\x81\\x19\\x03\\xfa\\xd5\\xe3H@\\xab\\x81\\xb9\\x15\\x8f<\\xed\\xba\\x8fC\\x8b\\x8f\\x197[\\xc5\\xc3\\xba[\\xa6\\x1a\\xca\\x11\\xb62\\x16\\x96\\xba\\xe0\\xcd\"e\\xeeG$\\x0c:4lF>\\x15g\\x820\\x06[\\xfaQ\\x960\\xcbD\\xf2]\\x98\\xdfq\\xc7\\xf8\\x93\\x85&\\xd3 \\x92q\\x8b\\xbb-\\xfbB\\x17\\x12F\\xbe~D{\\xbc\\xaa\\xa3g\\xa3\\x07\\x9b\\xf0\\xa4Vh\\xdf+\\x9f\\xce6\\xf0\\xf4\\xc1;\\xd7\\x7f\\xbd\\x80.IPT\\xf5\\x15\\xc95\\xebkm\\x02\\xfeE\\x84\\x05\\x0c\\xc4\\xa2\\x01\\xbf)\\xf5\\xe9\\xfd+\\xa7\\x1ev\\xf5Y\\xf9x\\xe4\\xee(\\xda\\x8c\\x06\\xda\\xe1\\xe1\\'%6\\'\\x1e?\\xc7\\xcb4\\x83T\\x8e\\xad+Mv\\xee\\xc8\\x10\\x9e\\x80yTq\\xae\\xec\\xadk+\\xd3^f\\x802\\x1aj*Ui\\x98\\xcd2\\xa21\\x15\\xee\\x99\\x04skv\\xcb \\xca\\xb1\\xc9\\x07\\xc7\\x00\\xd6\\xadR:m\\x93C\\xa8X\\xdd\\xf6\\x81\\x95\\xd4\\x92\\xa0\\x11\\xc9\\xd7\\xe7\\xb7\\xf2\\xa9\\xcf\\xd2\\xb8\\xe6\\xf2t\\x1bk\\xd3l\\x89\\x1cPv\\x8d\\xe03\\x81\\xf3\\xa9\\xad/R\\xd4\\xed_\\xb5\\xbc\\xd2\\x1f\\xee\\xa7\\xfdh\\x98\\x1eQ\\xe6EC\\xb6\\x95uy\\x02\\xfd\\xd0\\xf2\\xbe\\x0b\\r\\xf1\\xf2\\xa9}/L\\xbd\\xb1\\xb3\\xba\\x92mR\\xf0\\xc9\\')\\x89\\\\\\x1cE\\xe6?{9\\xf4\\xe9Y\\xe4\\x96=\\r\\xe4\\xb6Z\\xde\\xc3q\\x12\\xbcD2\\x9d\\xf2\\x0ev\\xa5\\xef\\xb8\\x93L\\xd3B\\xa5\\xc4\\xaf\\xce\\x7f*!lTG\\x04\\xb0\\x8a\\xd2\\xf6\\x06!\\xca\\xb9\\xe5\\xc0\\xc7\\xd2\\x97\\xb9\\x87\\\\\\x8e\\xec&\\x9b5\\xa3\\x0e\\xd4\\x06\\xedS\\xa2\\xf8\\xb7\\x99=v\\xa2v\\xac\\xa6\\xa2\\xc1i\\xabYj\\xb1\\x9f\\xba\\xca\\xacF\\xe5r2\\x07\\x9fZ\\xe5\\xff\\x00jC\\xee\\xfa\\x95\\xb1t\\xcaI\\xba\\xb6z\\x1e\\x87\\xf8U\\xfe\\xd1g\\x9ape\\xb6Hf\\x8c\\x9e\\xf2\\x0c+\\x8e\\x99\\x1e\\x86\\xa8\\xbfk\\xb8hm\\x94\\xf5^bq\\xeaT\\x7f:1\\xfd9\\xf2~\\\\\\xebT\\x98\\xcfp\\xd2\\x12O\\x86MG\\xb55>1\\xb5,\\xd5\\xa9\\x81\\xa9\\xaf1^\\x9a\\xcd\\xa9\\x01\\x12\\x98\\x8e\\x97Z<~\\x14\\xc0\\xc6\\xad\\xdad\\x01\\xf8:\\xd6\\xe4\\x9e\\xfc7\\xcd\\x1a\\x0f\\xddl\\x93\\xf5\\xaa\\x8bt\\xab\\x17\\x0b\\xcf\\x13i\\xd7\\x16o?\\xe2\\x9b\\x85u\\x84\\x9e\\xab\\x8d\\xc8\\xf5\\xc8\\xde\\xa3\\x93\\xf2\\xbe+\\xfd:\\x1e\\x85x\\x03,M\\xe41S:\\xcd\\xf0\\x82\\xc6D\\xca\\xe5W$\\x8f:\\xac\\xd8\\x8e\\xcex\\\\n\\x03o\\x8a\\x95\\xd6$\\xd3\\x90r\\\\\\xdc,q\\x95\\xefs\\x91\\x8d\\xfc=k$\\xed\\xeaK>\\x95\\xe0\\xedN\\xc9,o\\x9d\\xee@\\x93\\x9c\\xeeH\\x03\\xae?Z\\xbc\\xc1\\xd9\\\\*\\xb1Q\\xce\\x9b\\x13\\x8f/\\xe1T\\xcd\\t\\xf8R@\\x19/,\\xdeW\\xca1\\x91\\xb1\\xcc\\xdbm\\xbd\\\\\\xe3\\x8b\\xb1\\n\\xd1\\x80\\x02\\x8cc\\xd2\\xae\\xf4,\\xebU\\xb4\\xf2\\xa2)\\x0c0q\\x81\\xb5Q\\xef\\xac\\xd3T\\xd4\\xaen\\xa5\\x8a\\xda\\xe2\\x1b8\\xd4\\x98\\xa7R\\xc0\\xe4\\xb1l\\x8f\\xf6\\xf4\\xdf\\xae*\\xd3s!a#\\x16\\xc7-S8\\xcfP\\x8bB\\xe1+\\xceF\\x0by\\xa9\\x81\\x0cx\\\\\\x12\\xa4\\x10\\xc7>\\x8aO\\xd3\\xce\\x967y9g&8\\xd7\\x1c}\\xe1C\\xbe\\xe0u9\\xa5\\xda\\x9b\\x9b\\xfc%\\xf7R\\xad[\\x1eliYYYH\\x08\\xb4h\\xe8\\nh\\xf1S\\x03\\xe3\"\\x98\\xd2.\\x05\\xb6\\xa7\\x04\\x8cp\\xb9\\xe59\\xf5\\xa0\\x0ff\\x8f\\xa4i\\xad\\xabj\\xf6Zr1_\\xbc\\xcc\\xb1\\x97\\x1f\\x91I\\xef7\\xc0d\\xfc)Y\\xb9\\xa1.\\xae\\xdd\\x1fG\\xd4R+\\x98\\x8c\\xc3\\x9a\"w\\xc53\\x7f\\xa5\\xb5\\xee\\xa8\\x97\\x16\\xd1\\x8e\\xd5O:s\\x13\\x80<\\xbd:U\"\\xda[\\xfd?\\x91.\\x01h\\x9bx\\xe6\\x1b\\x83\\xf1\\xf3\\xabN\\x93\\xc4M\\x00\\x06Q\\x9c.\\x01\\xc6}k/\\x8d\\x9e\\x9e\\x86<\\x93\\xea\\xd9\\x0e\\x91ut\\xa7\\xb6\\xb4\\xb0\\x9a6\\x1b\\xabD3\\xfcA\\x15\\'\\xa6[\\x8d>5\\x8dgq\\x00$4O\\x92\\x10\\xfay\\x0fN\\x9eU\\x13a\\xc5\\xd6\\x00\\x02\\xd3(\\xc8\\xdds\\xd2\\x8f{\\xc4\\xf6O\\x80\\x070n\\xa5WsFS\\'K\\x9c\\xfbRW\\x93D\"w\\x04\\x05\\xc1<\\xde\\x9eu\\xc0\\xf8\\xb3\\x89\\xaex\\x92\\xf2\\xdd\\xe7D\\x8e\\x1bX\\xfb(cO,\\xee\\xc7\\xd4\\xed\\xf2\\xae\\x81\\xc7Z\\xbd\\xe4|5%\\xd4\\x11\\x18\\xa0\\x9ee\\xb6\\xcblp\\xc8\\xecq\\xf0_\\xadq\\xf1\\xd4WN\\x1c5\\xdb\\'?&\\xff\\x00\\x98rO\\xf0V\\x95~\\xb4\\xd3\\x7f\\x97\\x14\\xa3\\xf5\\xae\\xec\\xcdk++\\xca@E\\xa3\\xc7Js\\x91\\xec\\xe6\\xb3\\x9eO\\xda#\\xddL$\\xb9\\x95W,\\xc0{\\xeak\\x80\\x1b\\xb6\\xe2\\xfbH\\xe3\\x19g\\x86\\xe1#\\xf5s\\x0b\\x81\\x8a\\xa9\\xa8\\xce\\xe6\\xa7x2f\\xb7\\xe2]:X\\xce\\x1cK\\xdd>\\xb88\\xfa\\xe2\\x80\\xe8\\x9aU\\x9a\\xcf\\xa7$L\\x99\\x01@\\xdcyP%\\xd1\\x91$\\xccLb\\'\\xc0t\\xab\\xd5\\xd5\\x8c\\t\\x18\\xd4m#\\xfe\\xefry\\x99\\x06?\\nC\\xd4{\\x89\\xde\\xa3\\xefaU\\xe5e9\\x1e>\\x04z\\x11\\\\,\\xb3\\xdbn2e7\\x10\\xb6<9w+\\x0e\\xd1\\x80L\\xfe\\\\\\x13V}+\\x87T\\\\\\xac(\\xa1\\xe7m\\xcf0\\xcf\"\\xf9\\x9fO\\xd7\\xea\\x0b\\xa2\\x89\\xf5I\\x96\\xd2\\xd3\\xf0\\xc2/4\\xb2\\x91\\x9c\\x0fA\\xe7V\\xed\\x1a\\x14\\xb6G\\x828\\xc2\\x13\\xb9b\\xd9f\\xff\\x00q\\xf14\\xe67$g\\x9c\\xc3\\xaf\\xaeK\\xf6\\xe3s\\x05\\xbd\\xbe\\x99\\xa1\\xdbr\\xf2\\xc4\\x1e\\xe2A\\xf9\\xb3\\xec\\xa9>\\xff\\x00\\xc4\\xf9\\n\\xe3}\\x91U\\xce3\\xeaM]>\\xd05\\x13\\xab\\xf1N\\xa5r\\x1b1\\x89\\x8cQ\\xfa\"wG\\xe8O\\xc6\\xab\\x92C\\x98O/Q\\xb8\\xae\\xdae\\xf6N7uR\\x1e8\\x9dO\\x81,1\\xee\\xc1\\xa1\\xb4,Ow\\x18\\xf54\\\\\\x16\\xebXN\\x0e)\\x02\\xed\\x0c\\xa3\\xf2\\x93\\xee\\xde\\xb5\\xe5o\\xd9?*t\\x9cV\\xd9\\x7fZ\\x01e\\x85B\\x96a\\xd2\\xb1\\x92<\\xe3\\x07\\x1e`t\\xa6\\xa6R!`v\\xee\\xd2\\xd0w\\x97$gj\\x00\\xcfl\\x8c\\x81\\xa1`|\\xc55\\xc2\\xca[\\x89\\xf4\\x84\\xc7[\\xfbq\\xff\\x00\\x91iN^\\xeb\\x00\\x00\\xc8\\xa9n\\x04(\\xbce\\xa3\\x19\\x97+\\xf7\\xe8\\x06<\\x89\\x91@\\xf9\\x1c\\x1aa\\xf4\\x0e\\x88n,\\xd7\\xb3\\x92\\t\\xbb\\x15PCx1>c\\xd0c\\xeb@\\xe2\\r*+\\x82\\xb7\\x88\\x8c\\xbc\\xa7\\xbd\\xc8\\x0fO?\\xfe\\xf4\\xabl(%\\x8f\\x089\\xa3=\\x1b=()\\x08\\xc9@\\x8aX\\x120\\x05;&SG\\xc7\\x9d\\xc2\\xee 82\\xea\\xce\\xd6y#\\x91\\xf9%\\xb9*\\xb1\\x82=\\xa2\\x018\\xcd=\\xad]6\\x97\\x0e\\xad\\xa9\\xc6[\\xb3\\xb6\\xb6\\x94\\xe3=HR\\xc4\\xfc\\x08\\x00||\\xe9\\x99\\xb48M\\xfaj\\x0c\\x00\\x96=\\xd11\\xddV\\xc1\\x1c\\xe7\\xcc\\xe0\\xd5\\x7f\\xedR\\xe7\\xfb?\\x80\\xf5\\x04C\\xbc\\x91\\xaa\\x1c\\xf5<\\xee\\xab\\xff\\x00\"~\\x15\\x18\\xcd+\\x93)\\x95\\xdc|\\xf6\\xae\\xdc\\xc5\\x9b|\\xf5\\xacy\\xd4\\x1cF\\xa4\\xe3\\xcfj\\xd5\\xb6\\x03\\x1f\\x1a\\x11\\x00\\xe4\\xb7O\\x01\\xe3T\\x87\\x9e\\xd1\\x03\\x00\\x0e\\xacA\\xf0\\xa5\\xc3\\xf6\\x93\\x16\\xc7S\\x91\\xee\\xa3\\xdc0\\x8e\\xdc(\\xc8g\\xeb\\xbfAZX\\xc2\\xd26@\\xda\\x80<1\\xe4\\xe4\\xd3}\\x88\\xfd\\x9f\\xa5k\\x02\\xfe Jp\\xcd\\x108\\xe6\\x1bz\\xd3\\x08\\xab\\x96\\xcf>|\\xa9[S\\xdd+\\xe4k{\\x96$\\x9cP\\xec?\\xcc2\\xb7\\xe6\\x19\\xa4\\x0c\\xa0>F\\xa4\\xb8w\\xee\\xb6\\xba\\xee\\x8fz\\xf7 @\\x97\\x90=\\xd9t*-\\xc0\\x98g\\'\\xc4`g#\\xcf\\x14\\xabr\\xa7J&\\x81f5^ \\xb4\\xb5\\x11\\x96\\x13J\\xb1\\xb8N\\xa5I\\x19\\xf9\\x0c\\x9a\\x03\\xe9\\x8b9e\\x86\\xee;E\\x90\\x98\\xa4|\\x8c\\x1e\\x80\\x82jn\\xc2>Hy\\xcfV\\xdfs\\x9a\\xab\\xe9al\\xcar\\xa1\\x1f\\xd9\\xc8\\xb0\\x14\\xe6f\\xdb\\x1e\\xd6X\\x92G/)\\xdc\\x93\\xde\\xf3\\x15mEnEPp\\x02\\x81FB\\x07#v\\x97\\x021\\xec\\x81\\x96\\xae]\\xf6\\xe3xF\\x81m\\x10#7W\\x88\\xb8\\xfd\\xc5Vo\\xd4-u)\\x14C\\x0c\\x8d\\xe2F\\xf5\\xc3\\xfe\\xdb\\xee\\x8b\\xeazU\\xa8=\\xd4\\x8aY\\x98z\\x92\\xa0\\x7f\\xea~t@\\xe6\\x0eI\\xa1\\xacl\\xcf\\xb8\\xa3\\x1cV\\xae\\xfc\\x88[\\xa1\\xe8(\\x04\\xee\\x9f\\x9e`\\xab\\xd3\\xa0\\x19\\xf0\\xa9\\xbb8E\\xbd\\xb0\\xfd\\xacoP\\xda|}\\xbd\\xe2\\x9f\\x00jm\\x9b\\xba\\xf8\\xe9\\xd2\\x88)`\\xfd\\x9c\\x17\\x13g\\x04\\x03\\x8a\\x8b\\x16\\xb3\\x10\\tG\\xc9\\xf3z\\x90\\x9d\\xb1jc\\x18\\x05\\x9b9=)sk\\x01\\xf6\\xae\\\\\\x9f\\x12\\x18P\\x02\\x91\\xb74%\\xcaJ\\xaf\\xebX7\\xdc\\xd1\\x18\\x0e\\xc9\\xbd\\xd4\\x8c{\\x89W\\xa095d\\xfb-\\\\q\\xbe\\x90O\\x8d\\xc8\\x1fCUH\\x072\\x82j\\xc1\\xc1\\xd7\\x12Zq\\r\\x8c\\xf0\\x10\\xb2$\\xa3\\x94\\xe38\\'l\\xfdi\\x93\\xe8+$\\xe7}N\\xe3\\xfd9\\xe71\\xa1\\xf3\\xe4\\x01O\\xfd\\xdc\\xd5m\\x07\\n=\\xd5\\x07{\\x04v\\x96\\xd0\\xdb\\xc0\\xbc\\xb1C\\x1f*\\x0c\\xe7\\xd3\\xe2v\\xa9\\x98\\xd7\\xba\\x0eN\\xc3\\x18\\xa2\\xfa(^\\xfe^U\\nw\\x0e+\\xe7\\x9f\\xb5\\x99\\xfb~8\\x99?\\xe8[E\\x1f\\xc4\\xe5\\xbf\\xe5]\\xf3Qc\\xdb(\\xf4\\xfe\\x02\\xbeq\\xe3\\xd6-\\xc6\\xfa\\xd9=D\\xca\\x07\\xc1\\x16\\x8f\\x86\\x818\\xc6\\xf4\\xa5\\xd3\\x19\\x1c\\xc6\\x83<\\xbb|h\\xf39Ub:\\x80H\\xa0\\xd9\\xa8?\\xad\\x00\\xf6\\x99m\\xd8\\xa71\\xc71\\x14g\\x1b\\x91\\xe1\\xd6\\xb7\\x83\\xd9>\\x82\\xbc\\x84s\\xf31\\xeb\\xe9L\\x8a^\\x15\\xec7\\xe9\\xe3A\\xed\\xa3\\x1br\\ncPE[iq\\xe1Q\\x02G \\x1ecH\\xe3\\xff\\xd9'"
      ]
     },
     "execution_count": 40,
     "metadata": {},
     "output_type": "execute_result"
    }
   ],
   "source": [
    "# content of a particular image url\n",
    "\n",
    "requests.get(f\"https://encrypted-tbn0.gstatic.com/images?q=tbn:ANd9GcQWIm8IhNbQ8cHHkx25dbTK7_RaRK8DrRrK4GrR4wyApiAsBJPUbhsa7ICjKg&s\").content"
   ]
  },
  {
   "cell_type": "code",
   "execution_count": 42,
   "id": "18bc13ba-8259-47bd-bf24-a1424f046b98",
   "metadata": {},
   "outputs": [
    {
     "name": "stdout",
     "output_type": "stream",
     "text": [
      "0\n",
      "1\n",
      "2\n",
      "3\n",
      "4\n",
      "5\n",
      "6\n",
      "7\n",
      "8\n",
      "9\n",
      "10\n",
      "11\n",
      "12\n",
      "13\n",
      "14\n",
      "15\n",
      "16\n",
      "17\n",
      "18\n",
      "19\n",
      "20\n"
     ]
    }
   ],
   "source": [
    "for i in image_tag:\n",
    "    print(image_tag.index(i))"
   ]
  },
  {
   "cell_type": "code",
   "execution_count": 44,
   "id": "b972b32d-d766-4c1b-987e-e5a6b3ddd960",
   "metadata": {},
   "outputs": [
    {
     "name": "stdout",
     "output_type": "stream",
     "text": [
      "/images/branding/searchlogo/1x/googlelogo_desk_heirloom_color_150x55dp.gif\n",
      "https://encrypted-tbn0.gstatic.com/images?q=tbn:ANd9GcQWIm8IhNbQ8cHHkx25dbTK7_RaRK8DrRrK4GrR4wyApiAsBJPUbhsa7ICjKg&s\n",
      "https://encrypted-tbn0.gstatic.com/images?q=tbn:ANd9GcTTO0bYn7LKOBzOMJRp9mXeD2scBnuMtPGfQYqjaBoxMHMtDToYys4awIx7ou8&s\n",
      "https://encrypted-tbn0.gstatic.com/images?q=tbn:ANd9GcR8EQAJrHpX-vs7XcC396LwPgEuk0umwMa6Ujq9VvMUZmUWOX-IshmQ0xfLeDA&s\n",
      "https://encrypted-tbn0.gstatic.com/images?q=tbn:ANd9GcQY_R5NSNoZkSlMo3hf86COGJ4fCv0s6Nx4k8uCGkWc6YGOn_m4-rIOQ3GhOhg&s\n",
      "https://encrypted-tbn0.gstatic.com/images?q=tbn:ANd9GcSjJei_3RFcnMaHSuWdLGH0p6RssgNveUT0ha8zZLaPf5nAvJfIa9T9pOZL978&s\n",
      "https://encrypted-tbn0.gstatic.com/images?q=tbn:ANd9GcQfttCzvE_QZTH8Pfvz532ydQhRPJe6ikme_GtPKgasuyRgAQGQj68xX212mw&s\n",
      "https://encrypted-tbn0.gstatic.com/images?q=tbn:ANd9GcSFxaFaZ-9kxzoF2HUcQNVVwf0iiYhsx8NsnPbXIsjJZGfKInWE_xDIGcjYCmo&s\n",
      "https://encrypted-tbn0.gstatic.com/images?q=tbn:ANd9GcSWquD3V9PShopfxR5z4mBgB3IZnXGWVDSQM_48N0nbiI_0DYg43GVIktea3Uc&s\n",
      "https://encrypted-tbn0.gstatic.com/images?q=tbn:ANd9GcTgeyezehUnNU4Z1U2_Fi_dxiMYY2x0SOBZCcMWLoJO55-NPUXa7RyQnxvUp08&s\n",
      "https://encrypted-tbn0.gstatic.com/images?q=tbn:ANd9GcQoVC24-iwfmg1ynOoPkfB6fTOMKA4IEscvasg7lr_QSTQQIUU8Gq65d0EOoQ&s\n",
      "https://encrypted-tbn0.gstatic.com/images?q=tbn:ANd9GcRiUjYXnbLzwPnTzycn2ItHcUl6UbhYTYYF8JbaVC3rKLx4vjrTBnan-RRZq7Q&s\n",
      "https://encrypted-tbn0.gstatic.com/images?q=tbn:ANd9GcQxKSK6v2WSDPdMnhgQpJJmi9vg4Ch_ivZ-sUC8-TTYwNrUD0BukYPu7uC3x1E&s\n",
      "https://encrypted-tbn0.gstatic.com/images?q=tbn:ANd9GcRxf-Jbkdb6IZIh7oNtWyJhYtw3Kg80gamyGyRHZS8klkCrAzThS_D2ymM47A&s\n",
      "https://encrypted-tbn0.gstatic.com/images?q=tbn:ANd9GcQPvuVvVBy-4sRmLNi7aNFcCiLP38rydifYXwFQfE3bQ2IJ6Q5mmXrZdFCSlw&s\n",
      "https://encrypted-tbn0.gstatic.com/images?q=tbn:ANd9GcQhlvtGUTqBn3iKw-7q55iIFJNrP19JddVF9M_Z8vYJN1MlNOr8j-gwm6lX7lI&s\n",
      "https://encrypted-tbn0.gstatic.com/images?q=tbn:ANd9GcRJQVy_wbHY9q152oh5t527g3cfxTQ0081QecsNFiW_99bbx7hfNq1fY4ELyg&s\n",
      "https://encrypted-tbn0.gstatic.com/images?q=tbn:ANd9GcTGAnNpZ6lOW1yN0AllBGBmSQ5CNkhmGV6ivAB5A9W032BdU6DQ9bDSQVpRFoI&s\n",
      "https://encrypted-tbn0.gstatic.com/images?q=tbn:ANd9GcQkqgOWpGbsjvlfXgAzldcUv97Lh_0WqwpXwlrwCzhWF2YHLJO7PQgFKZR7gSg&s\n",
      "https://encrypted-tbn0.gstatic.com/images?q=tbn:ANd9GcTFaUMr_6rYzY7Cg-RdUS4A3SWi0SvXxlOF4bSG8cyqfxPdpchP4qT4XFyddQ&s\n",
      "https://encrypted-tbn0.gstatic.com/images?q=tbn:ANd9GcQnWySdECZr-A986NJKofMVl9KIU42AGUnOChqfyrdwmoxXzAgTH6LOsWKKiw&s\n"
     ]
    }
   ],
   "source": [
    "# Just get all the URl\n",
    "\n",
    "for i in image_tag:\n",
    "    image_url = i['src']\n",
    "    print(image_url)"
   ]
  },
  {
   "cell_type": "code",
   "execution_count": 53,
   "id": "4e1307fe-e0d5-4f4d-ba7d-e888c8de7434",
   "metadata": {},
   "outputs": [],
   "source": [
    "# save image in the folder\n",
    "\n",
    "for i in image_tag[1:]:\n",
    "    image_url = i['src']\n",
    "    image_data = requests.get(image_url).content\n",
    "    with open (os.path.join(save_dir, f\"{query}_{image_tag.index(i)}.jpg\"), \"wb\") as f:   # wb -> write byte form\n",
    "        f.write(image_data)"
   ]
  },
  {
   "cell_type": "code",
   "execution_count": null,
   "id": "56b7e4b1-11c5-436f-a6f7-78ac196f4d88",
   "metadata": {},
   "outputs": [],
   "source": []
  }
 ],
 "metadata": {
  "kernelspec": {
   "display_name": "Python 3 (ipykernel)",
   "language": "python",
   "name": "python3"
  },
  "language_info": {
   "codemirror_mode": {
    "name": "ipython",
    "version": 3
   },
   "file_extension": ".py",
   "mimetype": "text/x-python",
   "name": "python",
   "nbconvert_exporter": "python",
   "pygments_lexer": "ipython3",
   "version": "3.11.7"
  }
 },
 "nbformat": 4,
 "nbformat_minor": 5
}
