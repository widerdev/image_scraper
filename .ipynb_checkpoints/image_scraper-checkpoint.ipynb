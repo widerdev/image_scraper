{
 "cells": [
  {
   "cell_type": "code",
   "execution_count": 5,
   "id": "3a4bc8e6-630b-4a05-bf7c-5873f5f9a378",
   "metadata": {},
   "outputs": [],
   "source": [
    "import requests\n",
    "import logging\n",
    "import os\n",
    "from bs4 import BeautifulSoup      # scrap data from HTML pages\n",
    "from urllib.request import urlopen # To request from the server"
   ]
  },
  {
   "cell_type": "code",
   "execution_count": null,
   "id": "592824d8-ae00-4dc9-a3f0-f01271c2ac54",
   "metadata": {},
   "outputs": [],
   "source": []
  }
 ],
 "metadata": {
  "kernelspec": {
   "display_name": "Python 3 (ipykernel)",
   "language": "python",
   "name": "python3"
  },
  "language_info": {
   "codemirror_mode": {
    "name": "ipython",
    "version": 3
   },
   "file_extension": ".py",
   "mimetype": "text/x-python",
   "name": "python",
   "nbconvert_exporter": "python",
   "pygments_lexer": "ipython3",
   "version": "3.11.7"
  }
 },
 "nbformat": 4,
 "nbformat_minor": 5
}
